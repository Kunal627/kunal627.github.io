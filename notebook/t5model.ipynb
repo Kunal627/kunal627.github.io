{
 "cells": [
  {
   "cell_type": "markdown",
   "metadata": {},
   "source": [
    "T5\n",
    "--\n",
    "\n",
    "This is my shot at coding T5 model. This is for understanding and intuition. \n",
    "\n",
    "Source - https://github.com/Kunal627/kunal627.github.io/blob/main/code/t5model.py\n",
    "\n",
    "Differentiating Features of T5 Compared to Other LLMs\n",
    "-----------------------------------------------------\n",
    "\n",
    "* T5 uses \"Relative Positional Encoding\" T5 employs relative positional encodings to capture the relationship between tokens in a sequence, rather than their absolute positions. This means that the model focuses on how tokens relate to each other, regardless of their specific position in the input sequence.\n",
    "\n",
    "* I think T5 uses RMSNorm for layer normalization. And for boosting performance it uses apex.normalization.FusedRMSNorm instead of T5LayerNorm (Source. Huggingface). I have tried to write a simple implementation of RMS Norm\n",
    "\n",
    "* The T5 (Text-to-Text Transfer Transformer) model employs a unified framework for various NLP tasks by casting all tasks as a text-to-text problem. This approach allows it to apply the same model architecture and training objective across different tasks, making it versatile and powerful. (Exploring the Limits of Transfer Learning with a Unified Text-to-Text Transformer paper)\n",
    "\n",
    "\n",
    "\n",
    "References\n",
    "----------\n",
    "* T5 Architecture - https://www.researchgate.net/figure/Architecture-of-the-T5-model_fig2_371619795\n",
    "* Exploring the Limits of Transfer Learning with a Unified Text-to-Text Transformer - https://arxiv.org/abs/1910.10683\n",
    "* T5 https://paperswithcode.com/method/t5\n",
    "* Self-Attention with Relative Position Representations https://arxiv.org/pdf/1803.02155\n",
    "* T5 on hugging face - https://huggingface.co/docs/transformers/en/model_doc/t5"
   ]
  }
 ],
 "metadata": {
  "kernelspec": {
   "display_name": "Python 3 (ipykernel)",
   "language": "python",
   "name": "python3"
  },
  "language_info": {
   "codemirror_mode": {
    "name": "ipython",
    "version": 3
   },
   "file_extension": ".py",
   "mimetype": "text/x-python",
   "name": "python",
   "nbconvert_exporter": "python",
   "pygments_lexer": "ipython3",
   "version": "3.9.13"
  }
 },
 "nbformat": 4,
 "nbformat_minor": 4
}
