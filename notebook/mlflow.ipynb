{
 "cells": [
  {
   "cell_type": "markdown",
   "metadata": {},
   "source": [
    "#### ML Flow in action\n",
    "\n",
    "The idea behind this work is to explore some of the capabilities of ML Flow. I have written a small model on ECG Chapman dataset to classify 12 lead ECGs. The objective of this work is to run ML Flow on local machine using docker containers. \n",
    "\n",
    "Feel free to look at the working code - https://github.com/Kunal627/kunal627.github.io/blob/main/code\n",
    "\n",
    "#### ML Flow capabilities in scope\n",
    "* Capture Experiments, model/system metrics\n",
    "* Store model artifacts on ftp server (docker container in this case)\n",
    "* Use database as a backend for mlflow metadata store\n",
    "\n",
    "#### Prerequisites:\n",
    "* Docker Desktop \n",
    "* Any Python IDE\n",
    "* Needs WSL2 if running on Windows\n",
    "* ECG chapman dataset. Link is in code repo readme file\n",
    "\n",
    "#### Instructions\n",
    "* Copy the code on local\n",
    "* build docker images - docker compose build --no-cache\n",
    "* bring up docker containers - docker compose up -d\n",
    "* ML Flow UI will be hosted on http://localhost:9889/\n",
    "* Run the train_model.py script\n",
    "\n",
    "#### Python files\n",
    "\n",
    "1. trainn_model.py - training the model and capturing system/model metrics in mlflow\n",
    "2. models.py - model definition\n",
    "3. helper.py - helper functions\n",
    "4. mlflowrunparams.yaml - model and mlflow related parameters\n",
    "\n",
    "Attaching some of the screenshots for reference"
   ]
  },
  {
   "cell_type": "markdown",
   "metadata": {},
   "source": [
    "#### Docker \n",
    "\n",
    "![docker](../images/docker.png)"
   ]
  },
  {
   "cell_type": "markdown",
   "metadata": {},
   "source": [
    "![MLflow Experiments](../images/mlflow1.png)"
   ]
  },
  {
   "cell_type": "markdown",
   "metadata": {},
   "source": [
    "![Model Overview](../images/mlflow2.png)"
   ]
  },
  {
   "cell_type": "markdown",
   "metadata": {},
   "source": [
    "![Model Metrics](../images/mlflow3.png)"
   ]
  },
  {
   "cell_type": "markdown",
   "metadata": {},
   "source": [
    "![System Metrics](../images/mlflow4.png)"
   ]
  },
  {
   "cell_type": "markdown",
   "metadata": {},
   "source": [
    "![Artifacts](../images/mlflow5.png)"
   ]
  }
 ],
 "metadata": {
  "kernelspec": {
   "display_name": ".venv",
   "language": "python",
   "name": "python3"
  },
  "language_info": {
   "codemirror_mode": {
    "name": "ipython",
    "version": 3
   },
   "file_extension": ".py",
   "mimetype": "text/x-python",
   "name": "python",
   "nbconvert_exporter": "python",
   "pygments_lexer": "ipython3",
   "version": "3.9.13"
  }
 },
 "nbformat": 4,
 "nbformat_minor": 2
}
