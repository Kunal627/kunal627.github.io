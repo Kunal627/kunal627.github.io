{
 "cells": [
  {
   "cell_type": "markdown",
   "metadata": {},
   "source": [
    "#### Information retrieval\n",
    "\n",
    "I have started this series of posts to try covering the basics of IR with code examples to build the intuition. I will start from \n",
    "the very basics and will try to cover the advanced topics as well. \n",
    "This is still a work in progress and I will keep updating this post as and when I get time.\n",
    "\n",
    "\n",
    "#### Index\n",
    "\n",
    "| Part | Topic|\n",
    "|------|------|\n",
    "| ir_part1 | Boolean retrieval and Inverted Index using dictionary|\n",
    "| ir_part2 | Inverted index using BST|\n",
    "| ir_part3 | Wild card queries|\n",
    "\n",
    "\n",
    "All the exaples are here - https://github.com/Kunal627/kunal627.github.io/tree/main/code/ir"
   ]
  }
 ],
 "metadata": {
  "kernelspec": {
   "display_name": "Python 3 (ipykernel)",
   "language": "python",
   "name": "python3"
  },
  "language_info": {
   "codemirror_mode": {
    "name": "ipython",
    "version": 3
   },
   "file_extension": ".py",
   "mimetype": "text/x-python",
   "name": "python",
   "nbconvert_exporter": "python",
   "pygments_lexer": "ipython3",
   "version": "3.9.13"
  }
 },
 "nbformat": 4,
 "nbformat_minor": 4
}
