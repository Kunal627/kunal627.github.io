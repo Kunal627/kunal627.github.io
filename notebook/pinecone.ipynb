{
 "cells": [
  {
   "cell_type": "markdown",
   "metadata": {},
   "source": [
    "##### Setting up pinecone locally for testing\n",
    "https://docs.pinecone.io/guides/operations/local-testing\n",
    "\n",
    "pip install pinecone-client\n"
   ]
  },
  {
   "cell_type": "markdown",
   "metadata": {},
   "source": [
    "##### common errors \n",
    "\n",
    "|Error Desc | Resolution|\n",
    "|-----------|-----------|\n",
    "|ModuleNotFoundError: No module named 'google.api' | pip install --upgrade google-api-python-client|\n",
    "|ModuleNotFoundError: No module named 'protoc_gen_openapiv2'| pip install protoc-gen-openapiv2"
   ]
  }
 ],
 "metadata": {
  "language_info": {
   "name": "python"
  }
 },
 "nbformat": 4,
 "nbformat_minor": 2
}
