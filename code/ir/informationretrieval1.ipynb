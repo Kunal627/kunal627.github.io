{
 "cells": [
  {
   "cell_type": "markdown",
   "metadata": {},
   "source": [
    "#### Information retrieval - Part1\n",
    "\n",
    "Information retrieval (IR) is the process of obtaining relevant information from a large repository, such as a database or the internet. It involves the use of algorithms and techniques to search, filter, and rank data to provide users with the most pertinent results. With the exponential growth of digital information, effective information retrieval systems have become essential for accessing and managing vast amounts of data efficiently. \n",
    "In these series of posts, I will start from the formative concepts and techniques of information retrieval, exploring its foundational principles and gradually advancing to more complex topics and applications.\n",
    "\n",
    "I will go through boolean retrieval methods with boolean matrix and inverted index for the given documents"
   ]
  },
  {
   "cell_type": "code",
   "execution_count": null,
   "metadata": {},
   "outputs": [
    {
     "name": "stdout",
     "output_type": "stream",
     "text": [
      "Total number of words in all the plays:  136282\n",
      "Unique words in all the plays:  8990\n",
      "['a', 'abandon', 'abate', 'abated', 'abatement', 'abed', 'abhor', 'abhorr', 'abhorred', 'abide', 'abilities', 'ability', 'abject', 'abjure', 'able', 'abler', 'aboard', 'abode', 'abominable', 'abound']\n"
     ]
    }
   ],
   "source": [
    "## Boolean Retrieval Model\n",
    "\n",
    "import re\n",
    "import os\n",
    "import numpy as np\n",
    "\n",
    "path = \"../ir\"\n",
    "shakes = [\"jc.txt\", \"kinglear.txt\", \"macbeth.txt\", \"othello.txt\", \"merchvenice.txt\"]\n",
    "\n",
    "tokens = []\n",
    "\n",
    "# simple function to preprocess text (remove punctuation, leading underscores and lowercase all words)\n",
    "def preprocess(text):\n",
    "    cleaned_text = re.sub(r'\\b_|\\W+|\\d', ' ', text)\n",
    "    cleaned_text = re.sub(r'\\s+', ' ', cleaned_text).strip()\n",
    "    words = cleaned_text.lower().split()\n",
    "    return words\n",
    "\n",
    "for shake in shakes:\n",
    "    with open(os.path.join(path, shake), \"r\", encoding=\"utf-8\") as file:\n",
    "        text = file.read()\n",
    "        words = preprocess(text)\n",
    "        tokens.append(words)\n",
    "\n",
    "tokens = [word for sublist in tokens for word in sublist]\n",
    "\n",
    "# get all unique words in the plays, sorted alphabetically\n",
    "unique_tokens = sorted(list(set(tokens)))\n",
    "print(\"Total number of words in all the plays: \", len(tokens))\n",
    "print(\"Unique words in all the plays: \", len(unique_tokens))\n",
    "print(unique_tokens[:20])"
   ]
  },
  {
   "cell_type": "code",
   "execution_count": 54,
   "metadata": {},
   "outputs": [],
   "source": [
    "# This code initializes the boolean matrix with zeros and then iterates through each unique word and each play. \n",
    "# If the word appears in the play, it sets the corresponding entry in the boolean matrix to one.\n",
    "# This is not a very efficient way to do this, but it is simple and easy to understand.  \n",
    "# Limited to first 20 unique words.\n",
    "num_tokens = 1000\n",
    "boolean_matrix = np.zeros((len(unique_tokens[: num_tokens]), len(shakes)))\n",
    "for i, token in enumerate(unique_tokens[:num_tokens]):\n",
    "    for j, shake in enumerate(shakes):\n",
    "        with open(os.path.join(path, shake), \"r\", encoding=\"utf-8\") as file:\n",
    "            text = file.read()\n",
    "            words = preprocess(text)\n",
    "            boolean_matrix[i, j] = token in words"
   ]
  },
  {
   "cell_type": "code",
   "execution_count": 56,
   "metadata": {},
   "outputs": [
    {
     "name": "stdout",
     "output_type": "stream",
     "text": [
      "['a', 'abandon', 'abate', 'abated', 'abatement', 'abed', 'abhor', 'abhorr', 'abhorred', 'abide', 'abilities', 'ability', 'abject', 'abjure', 'able', 'abler', 'aboard', 'abode', 'abominable', 'abound', 'about', 'above', 'abram', 'abridg', 'abroad', 'absence', 'absent', 'absolute', 'abundance', 'abus', 'abuse', 'abused', 'abuser', 'abuses', 'accent', 'accents', 'accept', 'acceptance', 'accepted', 'accepting', 'access', 'accessed', 'accessible', 'accident', 'accidental', 'accidents', 'accommodate', 'accommodation', 'accompany', 'accomplished', 'accordance', 'according', 'accordingly', 'account', 'accountant', 'accounted', 'accoutered', 'accoutred', 'accumulate', 'accurs', 'accursed', 'accus', 'accuse', 'accuser', 'accustomed', 'acerb', 'ache', 'acheron', 'aches', 'achiev', 'acknowledg', 'acknowledge', 'acknowledged', 'acknown', 'acquaint', 'acquaintance', 'acquainted', 'acquitted', 'acre', 'across', 'act', 'acted', 'acting', 'action', 'actions', 'active', 'actors', 'acts', 'actual', 'adage', 'add', 'added', 'adder', 'addition', 'additional', 'additions', 'address', 'addresses', 'adhere', 'adieu', 'adjoining', 'admir', 'admirable', 'admiration', 'admit', 'ado', 'adopt', 'adopted', 'adore', 'adulterers', 'adultery', 'adultress', 'advanc', 'advance', 'advancement', 'advances', 'advantage', 'advantages', 'adventuring', 'adversary', 'adversities', 'advice', 'advis', 'advise', 'advised', 'advisedly', 'advocation', 'aemilius', 'aeneas', 'aerial', 'afar', 'afeard', 'affability', 'affair', 'affairs', 'affect', 'affected', 'affection', 'affectionate', 'affections', 'affects', 'affeer', 'affin', 'affinity', 'affirm', 'afflict', 'affliction', 'affordeth', 'affright', 'affrighted', 'afloat', 'afoot', 'afore', 'aforesaid', 'afraid', 'after', 'afternoon', 'afterward', 'afterwards', 'ag', 'again', 'against', 'age', 'aged', 'agent', 'agents', 'ages', 'agitation', 'agnize', 'ago', 'agree', 'agreed', 'agreement', 'ague', 'ah', 'aid', 'aidant', 'aim', 'air', 'airless', 'airs', 'ajax', 'alabaster', 'alack', 'alacrity', 'alarm', 'alarum', 'alarums', 'alas', 'albany', 'albeit', 'albion', 'alchemy', 'alcides', 'alehouse', 'aleppo', 'alien', 'alight', 'alighted', 'alike', 'alive', 'all', 'allay', 'allegiance', 'alliance', 'allot', 'allow', 'allowance', 'allowed', 'allows', 'almain', 'almost', 'alms', 'alone', 'along', 'along_', 'aloof', 'aloud', 'alow', 'already', 'also', 'alter', 'alteration', 'alternate', 'although', 'altitude', 'altogether', 'always', 'am', 'amaz', 'amaze', 'amazed', 'amazedly', 'amazement', 'ambassador', 'ambition', 'ambitious', 'amen', 'amend', 'amends', 'amiable', 'amiss', 'amities', 'amity', 'among', 'amongst', 'amorous', 'ample', 'amplify', 'an', 'anatomize', 'ancestor', 'ancestors', 'anchises', 'anchoring', 'ancient', 'and', 'andrew', 'anew', 'angel', 'angelo', 'angels', 'anger', 'angering', 'angerly', 'angler', 'angry', 'anguish', 'angus', 'animal', 'animals', 'annoy', 'annoyance', 'annoying', 'anointed', 'anon', 'another', 'answer', 'answerable', 'answered', 'answering', 'answers', 'ant', 'anthropophagi', 'antic', 'anticipat', 'anticipates', 'antidote', 'antipathy', 'antipodes', 'antique', 'antonio', 'antonio_', 'antonius', 'antony', 'antres', 'any', 'anybody', 'anyone', 'anything', 'anywhere', 'apace', 'apart', 'apes', 'apish', 'apollo', 'apothecary', 'appal', 'appals', 'apparel', 'apparent', 'apparition', 'apparitions', 'appear', 'appearance', 'appeared', 'appeareth', 'appearing', 'appears', 'appeas', 'appease', 'appertain', 'appertains', 'appetite', 'appetites', 'applaud', 'applause', 'applauses', 'apple', 'applicable', 'applied', 'apply', 'appoint', 'appointed', 'apprehend', 'apprehension', 'apprehensions', 'apprehensive', 'approach', 'approaches', 'approaching', 'appropriation', 'approv', 'approve', 'approved', 'approves', 'april', 'apron', 'apt', 'arabia', 'arabian', 'arbitrate', 'arbitrement', 'arbors', 'arch', 'archive', 'are', 'argosies', 'argosy', 'argues', 'arguing', 'argument', 'arguments', 'argus', 'aright', 'arise', 'arises', 'ariseth', 'arithmetician', 'arm', 'armed', 'armies', 'arming', 'armour', 'arms', 'army', 'aroint', 'arose', 'arragon', 'arraign', 'arraigning', 'arrant', 'array', 'arrest', 'arriv', 'arrivance', 'arrive', 'arrived', 'arrives', 'arrow', 'art', 'artemidorus', 'article', 'artificial', 'arts', 'as', 'ascend', 'ascended', 'ascii', 'ash', 'asham', 'ashamed', 'ashore', 'aside', 'aside_', 'ask', 'asleep', 'aspect', 'aspics', 'asquint', 'ass', 'assailable', 'assails', 'assassination', 'assault', 'assaulted', 'assaults', 'assay', 'assays', 'assemble', 'assembly', 'asses', 'assign', 'assist', 'assistance', 'assisted', 'associated', 'assume', 'assumes', 'assur', 'assurance', 'assure', 'assured', 'astonish', 'astronomical', 'at', 'ate', 'athenian', 'atone', 'attach', 'attached', 'attain', 'attains', 'attask', 'attempt', 'attempting', 'attempts', 'attend', 'attendance', 'attendant', 'attendants', 'attended', 'attendeth', 'attending', 'attends', 'attentive', 'attire', 'attribute', 'audience', 'audit', 'auger', 'aught', 'augment', 'augmented', 'augurers', 'augurs', 'auld', 'auricular', 'auspicious', 'author', 'authoris', 'authorities', 'authority', 'autumn', 'available', 'avarice', 'avaricious', 'avaunt', 'aveng', 'avenue', 'avert', 'avoid', 'avoided', 'avouch', 'avouched', 'avouches', 'awak', 'awake', 'awards', 'away', 'awe', 'aweary', 'awhile', 'awl', 'axe', 'ay', 'aye', 'b', 'babe', 'babes', 'baboon', 'baby', 'bachelor', 'back', 'backs', 'backward', 'bad', 'bade', 'badg', 'badge', 'badness', 'bag', 'bagpipe', 'bagpiper', 'bags', 'bait', 'baited', 'bake', 'balance', 'bald', 'ballow', 'balls', 'balm', 'balmy', 'balthazar', 'ban', 'bandy', 'bane', 'bang', 'banish', 'banished', 'banishment', 'bank', 'bankrupt', 'banks', 'banner', 'banners', 'banquet', 'banqueting', 'banquets', 'banquo', 'bans', 'baptism', 'bar', 'barabbas', 'barbarian', 'barbarous', 'barbary', 'barber', 'bare', 'barefac', 'barefoot', 'bareheaded', 'barely', 'bargain', 'bargains', 'bark', 'baron', 'barren', 'bars', 'base', 'based', 'baseness', 'basest', 'basis', 'basket', 'bassanio', 'bassanio_', 'bastard', 'bastardizing', 'bastards', 'bastardy', 'bat', 'bate', 'bated', 'bath', 'bathe', 'batter', 'battle', 'battlements', 'battles', 'bauble', 'bawd', 'bawds', 'bawdy', 'bay', 'be', 'beach', 'beacon', 'beadle', 'beads', 'beaks', 'beams', 'bear', 'beard', 'bearded', 'beards', 'bearer', 'bearers', 'bearing', 'bears', 'beast', 'beastly', 'beasts', 'beat', 'beaten', 'beating', 'beats', 'beauteous', 'beauties', 'beautiful', 'beauty', 'became', 'because', 'bechanc', 'beckons', 'become', 'becomes', 'becoming', 'bed', 'bedchamber', 'bedfellow', 'bedlam', 'beds', 'beefs', 'been', 'beer', 'bees', 'beetle', 'beetles', 'befall', 'befallen', 'before', 'befriend', 'beg', 'began', 'beget', 'begg', 'beggar', 'beggarly', 'beggars', 'begin', 'beginning', 'begins', 'begot', 'begotten', 'begrim', 'begs', 'beguil', 'beguile', 'beguiled', 'begun', 'behalf', 'behav', 'behaviors', 'behaviour', 'beheld', 'behind', 'behold', 'beholding', 'being', 'belch', 'beldams', 'belee', 'belie', 'belief', 'believ', 'believe', 'belike', 'bell', 'bellario', 'bellied', 'bellman', 'bellona', 'bellow', 'bellowing', 'bells', 'belly', 'bellyful', 'belmont', 'belong', 'belov', 'beloved', 'below', 'belt', 'belzebub', 'bemadding', 'bench', 'benches', 'bend', 'bending', 'beneath', 'benediction', 'beneficial', 'benefit', 'benefits', 'benefitted', 'benison', 'bent', 'bequeathing', 'bereaved', 'bereft', 'beseech', 'beset', 'beshrew', 'beside', 'besides', 'besmear', 'besort', 'bespeak', 'bespoke', 'bessy', 'best', 'bestial', 'bestirr', 'bestow', 'bestowed', 'bestows', 'bestride', 'bethink', 'bethought', 'betimes', 'betray', 'better', 'bettered', 'betters', 'between', 'betwixt', 'beware', 'beweep', 'bewhor', 'bewray', 'beyond', 'bianca', 'bianca_', 'bias', 'bid', 'bidding', 'bide', 'bides', 'biding', 'bids', 'big', 'bigger', 'bill', 'billeted', 'billow', 'bills', 'bin', 'binary', 'bind', 'bird', 'birdlime', 'birds', 'birnam', 'birth', 'birthdom', 'bit', 'bitch', 'bite', 'bites', 'biting', 'bitter', 'bitterness', 'blab', 'black', 'blacker', 'blackest', 'blackness', 'blade', 'bladed', 'blame', 'blamed', 'blames', 'blanch', 'blank', 'blanket', 'blaspheme', 'blaspheming', 'blast', 'blasted', 'blasting', 'blasts', 'blaze', 'blazoning', 'bleared', 'bleat', 'bleed', 'bleeding', 'bleeds', 'blent', 'bless', 'blessed', 'blesseth', 'blessing', 'blessings', 'blest', 'blind', 'blinding', 'blinking', 'bliss', 'blisters', 'block', 'blocks', 'blood', 'blooded', 'bloodier', 'bloods', 'bloody', 'blossom', 'blot', 'blotted', 'blow', 'blowing', 'blown', 'blows', 'blue', 'blunt', 'bluntly', 'bluntness', 'blush', 'bo', 'board', 'boarded', 'boards', 'boarish', 'boast', 'boasted', 'boasting', 'boat', 'bobb', 'bobtail', 'bode', 'bodements', 'bodies', 'bodily', 'boding', 'body', 'bog', 'boil', 'boiling', 'boisterous', 'bold', 'boldest', 'boldly', 'bolds', 'bolster', 'bolt', 'bolted', 'bolter', 'bombast', 'bon', 'bond', 'bondage', 'bondman', 'bondmen', 'bonds', 'bone', 'boneless', 'bones', 'bonfire', 'bonfires', 'bonnet', 'book', 'bookish', 'books', 'boon', 'boot', 'bootless', 'boots', 'bor', 'bordered', 'bore', 'born', 'borne', 'borrow', 'borrowed', 'borrower', 'bosom', 'bosoms', 'botches', 'both', 'bottle', 'bottom', 'bough', 'boughs', 'bought', 'bound', 'boundless', 'bounds', 'bounteous', 'bounty', 'bourn', 'bove', 'bow', 'bowels', 'bowl', 'bows', 'box', 'boy', 'boyish', 'boys', 'brabantio', 'brace', 'brach', 'brag', 'braggart', 'bragging', 'brain', 'brains', 'brainsickly', 'branches', 'brand', 'brandish', 'brands', 'brass', 'brassy', 'brav', 'brave', 'bravely', 'braver', 'bravery', 'brawl', 'brawler', 'braz', 'brazen', 'breach', 'breaches', 'bread', 'breadth', 'break', 'breaking', 'breaks', 'breast', 'breasts', 'breath', 'breathe', 'breathed', 'breathes', 'breathing', 'breathless', 'breaths', 'bred', 'breech', 'breeches', 'breed', 'breeders', 'breeding', 'breeds', 'brew', 'brewers', 'brewing', 'bribes', 'bridal', 'bride', 'bridegroom', 'bridges', 'brief', 'briefly', 'briefness', 'bright', 'brightest', 'brightly', 'brim', 'brimful', 'brimstone', 'brinded', 'bring', 'bringeth', 'bringing', 'brings', 'britain', 'british', 'broad', 'broil', 'broils', 'broke', 'broken', 'brook', 'broth', 'brothel', 'brothels', 'brother', 'brothers', 'brought', 'brow', 'brown', 'brows', 'bruis', 'bruise', 'bruited', 'brute', 'brutish', 'brutus', 'bubble', 'bubbles', 'buckle', 'budge', 'buffet', 'buffets']\n"
     ]
    }
   ],
   "source": [
    "print(unique_tokens[:num_tokens])"
   ]
  },
  {
   "cell_type": "code",
   "execution_count": 60,
   "metadata": {},
   "outputs": [
    {
     "name": "stdout",
     "output_type": "stream",
     "text": [
      "Size of the boolean array in kilobytes: 39.0625\n",
      "Percentage of zeros in the boolean matrix: 57.84%\n",
      "The plays containing both words in and_query': []\n",
      "The plays containing either words in or_query : ['othello.txt']\n"
     ]
    }
   ],
   "source": [
    "# Get the size of the boolean array in bytes\n",
    "size_in_kb = boolean_matrix.nbytes\n",
    "print(f\"Size of the boolean array in kilobytes: {size_in_kb / 1024}\")\n",
    "\n",
    "total_elements = boolean_matrix.size\n",
    "num_zeros = np.count_nonzero(boolean_matrix == 0)\n",
    "percentage_zeros = (num_zeros / total_elements) * 100\n",
    "\n",
    "print(f\"Percentage of zeros in the boolean matrix: {percentage_zeros:.2f}%\")\n",
    "\n",
    "# Example query with and and or operators\n",
    "# This function takes a query string as input and returns a list of plays that contain the words in the query.\n",
    "def query_words(query):\n",
    "    query = query.lower()\n",
    "    if \" and \" in query:\n",
    "        words = query.split(\" and \")\n",
    "        result_matrix = np.ones(len(shakes), dtype=bool)\n",
    "        for word in words:\n",
    "            if word in unique_tokens[:num_tokens]:\n",
    "                word_index = unique_tokens[:num_tokens].index(word)\n",
    "                result_matrix = np.logical_and(result_matrix, boolean_matrix[word_index])\n",
    "            else:\n",
    "                return []\n",
    "    elif \" or \" in query:\n",
    "        words = query.split(\" or \")\n",
    "        result_matrix = np.zeros(len(shakes), dtype=bool)\n",
    "        for word in words:\n",
    "            if word in unique_tokens[:num_tokens]:\n",
    "                word_index = unique_tokens[:num_tokens].index(word)\n",
    "                result_matrix = np.logical_or(result_matrix, boolean_matrix[word_index])\n",
    "    else:\n",
    "        if query in unique_tokens[:num_tokens]:\n",
    "            word_index = unique_tokens[:num_tokens].index(query)\n",
    "            result_matrix = boolean_matrix[word_index]\n",
    "        else:\n",
    "            return []\n",
    "\n",
    "    plays_with_words = [shakes[j] for j in range(len(shakes)) if result_matrix[j]]\n",
    "    return plays_with_words\n",
    "\n",
    "# Example queries\n",
    "and_query = \"abandon and lear\"\n",
    "or_query = \"abandon or lear\"\n",
    "\n",
    "plays_and = query_words(and_query)\n",
    "plays_or = query_words(or_query)\n",
    "\n",
    "print(f\"The plays containing both words in and_query': {plays_and}\")\n",
    "print(f\"The plays containing either words in or_query : {plays_or}\")"
   ]
  },
  {
   "cell_type": "markdown",
   "metadata": {},
   "source": [
    "Boolean retrieval is a simple and efficient way to retrieve documents that contain specific words or phrases. But it has limitations such as:\n",
    "\n",
    "* the inability to rank documents based on relevance.\n",
    "* Only the presence or absence of words is considered, and there is no notion of term frequency or document frequency.\n",
    "* For just the first 1000 words, the boolean matrix takes up 39.06 KB of memory. This would grow linearly with the number of unique words.\n",
    "* The percentage of zeros in the boolean matrix is 58% , which is expected since most words will not appear in most plays. The boolean matrix is not very efficient for large datasets, as it requires a lot of memory and most of the entries are zeros.\n"
   ]
  },
  {
   "cell_type": "code",
   "execution_count": 77,
   "metadata": {},
   "outputs": [
    {
     "name": "stdout",
     "output_type": "stream",
     "text": [
      "Indexing document jc.txt with id 0\n",
      "Indexing document kinglear.txt with id 1\n",
      "Indexing document macbeth.txt with id 2\n",
      "Indexing document othello.txt with id 3\n",
      "Indexing document merchvenice.txt with id 4\n"
     ]
    }
   ],
   "source": [
    "# Inverted index implementation for the boolean retrieval model\n",
    "# it's a simple implementation of an inverted index that stores the frequency of each word and the list of documents in which it appears.\n",
    "from collections import defaultdict\n",
    "  \n",
    "\n",
    "class InvertedIndex:\n",
    "    def __init__(self):\n",
    "        self.index = defaultdict(lambda: {\"frequency\": 0, \"posting_list\": []})\n",
    "    \n",
    "    def preprocess(self, text):\n",
    "        cleaned_text = re.sub(r'\\b_|\\W+|\\d', ' ', text)\n",
    "        cleaned_text = re.sub(r'\\s+', ' ', cleaned_text).strip()\n",
    "        words = cleaned_text.lower().split()\n",
    "        return words\n",
    "    \n",
    "    def index_document(self, document, doc_id):\n",
    "        words = self.preprocess(document)\n",
    "        for word in words:\n",
    "            self.index[word][\"frequency\"] += words.count(word)\n",
    "            if doc_id not in self.index[word][\"posting_list\"]:\n",
    "                self.index[word][\"posting_list\"].append(doc_id)\n",
    "\n",
    "    def query(self, word):\n",
    "            word = word.lower()\n",
    "            if word in self.index:\n",
    "                return self.index[word]\n",
    "            else:\n",
    "                return {\"frequency\": 0, \"posting_list\": []}\n",
    "    \n",
    "# Example usage\n",
    "path = \"../ir\"\n",
    "shakes = [\"jc.txt\", \"kinglear.txt\", \"macbeth.txt\", \"othello.txt\", \"merchvenice.txt\"]\n",
    "\n",
    "inverted_index = InvertedIndex()\n",
    "\n",
    "for doc_id, shake in enumerate(shakes):\n",
    "    print(f\"Indexing document {shake} with id {doc_id}\")\n",
    "    with open(os.path.join(path, shake), \"r\", encoding=\"utf-8\") as file:\n",
    "        text = file.read()\n",
    "        inverted_index.index_document(text, doc_id)\n"
   ]
  },
  {
   "cell_type": "code",
   "execution_count": 79,
   "metadata": {},
   "outputs": [
    {
     "name": "stdout",
     "output_type": "stream",
     "text": [
      "Size of the inverted index in kilo bytes:  288.078125\n",
      "Frequency of 'king': 7791\n",
      "Posting list for 'king': ['jc.txt', 'kinglear.txt', 'macbeth.txt', 'othello.txt', 'merchvenice.txt']\n"
     ]
    }
   ],
   "source": [
    "print(\"Size of the inverted index in kilo bytes: \", inverted_index.index.__sizeof__() / 1024)\n",
    "word_to_query = \"king\"\n",
    "result = inverted_index.query(word_to_query)\n",
    "print(f\"Frequency of '{word_to_query}': {result['frequency']}\")\n",
    "print(f\"Posting list for '{word_to_query}': {[shakes[i] for i in result['posting_list']]}\")"
   ]
  },
  {
   "cell_type": "markdown",
   "metadata": {},
   "source": [
    "#### Benefits of using an inverted index for the boolean retrieval model\n",
    "\n",
    "* Inverted index is faster to construct and more efficient than the boolean matrix for large collections of documents. Just took 1 minute 30 seconds to build for complete vocabulary\n",
    "* The inverted index is more efficient in terms of memory usage and query performance.\n",
    "\n",
    "Note :The query function can be modified to support boolean queries by combining the posting lists of the words in the query."
   ]
  },
  {
   "cell_type": "markdown",
   "metadata": {},
   "source": [
    "Reference and further reading\n",
    "-----------------------------\n",
    "\n",
    "* \"Introduction to Information Retrieval\" by Christopher D. Manning, Prabhakar Raghavan, and Hinrich Schütze"
   ]
  }
 ],
 "metadata": {
  "kernelspec": {
   "display_name": "Python 3",
   "language": "python",
   "name": "python3"
  },
  "language_info": {
   "codemirror_mode": {
    "name": "ipython",
    "version": 3
   },
   "file_extension": ".py",
   "mimetype": "text/x-python",
   "name": "python",
   "nbconvert_exporter": "python",
   "pygments_lexer": "ipython3",
   "version": "3.9.13"
  }
 },
 "nbformat": 4,
 "nbformat_minor": 2
}
