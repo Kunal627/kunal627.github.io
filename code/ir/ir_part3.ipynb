{
 "cells": [
  {
   "cell_type": "code",
   "execution_count": null,
   "metadata": {},
   "outputs": [],
   "source": [
    "#### IR Part 3 - Wild card queries\n",
    "\n",
    "# Part 1 and 2 of this series were to demonstrate the inverted index creattion for retrieval of documents. We used dicts and BST for the same.\n",
    "# The inverted index so far did not support wild card queries. In this part i will implement a very simple wild card query support.\n"
   ]
  },
  {
   "cell_type": "code",
   "execution_count": 6,
   "metadata": {},
   "outputs": [
    {
     "name": "stdout",
     "output_type": "stream",
     "text": [
      "{1, 2}\n",
      "{2, 3}\n"
     ]
    }
   ],
   "source": [
    "class InvertedIndex:\n",
    "    def __init__(self):\n",
    "        self.index = {}\n",
    "\n",
    "    def add(self, doc_id, doc):\n",
    "        for word in doc.split():\n",
    "            if word not in self.index:\n",
    "                self.index[word] = set()\n",
    "            self.index[word].add(doc_id)\n",
    "\n",
    "    def search(self, query):\n",
    "        if '*' in query:\n",
    "            return self.wild_card_search(query)\n",
    "        return self.index.get(query, set())\n",
    "\n",
    "    def wild_card_search(self, query):\n",
    "        query = query.replace('*', '')\n",
    "        result = set()\n",
    "        for word in self.index:\n",
    "            if query in word:\n",
    "                result = result.union(self.index[word])\n",
    "        return result\n",
    "    \n",
    "# Test\n",
    "index = InvertedIndex()\n",
    "index.add(1, 'hello world')\n",
    "index.add(2, 'hello python')\n",
    "index.add(3, 'world python')\n",
    "\n",
    "print(index.search('hello'))\n",
    "print(index.search('th*'))"
   ]
  },
  {
   "cell_type": "code",
   "execution_count": null,
   "metadata": {},
   "outputs": [],
   "source": [
    "# In this example some times more than one word is used to create a single index. \n",
    "# It is a simple approcah which is memory efficient and works well for exact matches but could not capture the context of the words.\n",
    "# We can use n-grams to capture the context of the words. This comes at the cost of complexity and more memory usage."
   ]
  },
  {
   "cell_type": "code",
   "execution_count": null,
   "metadata": {},
   "outputs": [],
   "source": []
  },
  {
   "cell_type": "markdown",
   "metadata": {},
   "source": []
  }
 ],
 "metadata": {
  "kernelspec": {
   "display_name": "Python 3",
   "language": "python",
   "name": "python3"
  },
  "language_info": {
   "codemirror_mode": {
    "name": "ipython",
    "version": 3
   },
   "file_extension": ".py",
   "mimetype": "text/x-python",
   "name": "python",
   "nbconvert_exporter": "python",
   "pygments_lexer": "ipython3",
   "version": "3.9.13"
  }
 },
 "nbformat": 4,
 "nbformat_minor": 2
}
