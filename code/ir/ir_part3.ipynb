{
 "cells": [
  {
   "cell_type": "code",
   "execution_count": null,
   "metadata": {},
   "outputs": [],
   "source": [
    "#### IR Part 3 - Wild card queries\n",
    "\n",
    "# Part 1 and 2 of this series were to demonstrate the inverted index creattion for retrieval of documents. We used dicts and BST for the same.\n",
    "# The inverted index so far did not support wild card queries. In this part i will implement a very simple wild card query support.\n"
   ]
  },
  {
   "cell_type": "code",
   "execution_count": 6,
   "metadata": {},
   "outputs": [
    {
     "name": "stdout",
     "output_type": "stream",
     "text": [
      "{1, 2}\n",
      "{2, 3}\n"
     ]
    }
   ],
   "source": [
    "class InvertedIndex:\n",
    "    def __init__(self):\n",
    "        self.index = {}\n",
    "\n",
    "    def add(self, doc_id, doc):\n",
    "        for word in doc.split():\n",
    "            if word not in self.index:\n",
    "                self.index[word] = set()\n",
    "            self.index[word].add(doc_id)\n",
    "\n",
    "    def search(self, query):\n",
    "        if '*' in query:\n",
    "            return self.wild_card_search(query)\n",
    "        return self.index.get(query, set())\n",
    "\n",
    "    def wild_card_search(self, query):\n",
    "        query = query.replace('*', '')\n",
    "        result = set()\n",
    "        for word in self.index:\n",
    "            if query in word:\n",
    "                result = result.union(self.index[word])\n",
    "        return result\n",
    "    \n",
    "# Test\n",
    "index = InvertedIndex()\n",
    "index.add(1, 'hello world')\n",
    "index.add(2, 'hello python')\n",
    "index.add(3, 'world python')\n",
    "\n",
    "print(index.search('hello'))\n",
    "print(index.search('th*'))"
   ]
  },
  {
   "cell_type": "markdown",
   "metadata": {},
   "source": [
    "In previous example some times more than one word is used to create a single index. \n",
    "It is a simple approcah which is memory efficient and works well for exact matches but could not capture the context of the words.\n",
    "We can use n-grams to capture the context of the words. This comes at the cost of complexity and more memory usage."
   ]
  },
  {
   "cell_type": "markdown",
   "metadata": {},
   "source": [
    "#### General wild card queries\n",
    "\n",
    "We will look at two techniques to support general wild card queries\n",
    "\n",
    "* permuterm indexes\n",
    "* k-gram indexes"
   ]
  },
  {
   "cell_type": "code",
   "execution_count": 34,
   "metadata": {},
   "outputs": [
    {
     "name": "stdout",
     "output_type": "stream",
     "text": [
      "{'hello$': 'hello$', 'ello$h': 'hello$', 'llo$he': 'hello$', 'lo$hel': 'hello$', 'o$hell': 'hello$', '$hello': 'hello$', 'world$': 'world$', 'orld$w': 'world$', 'rld$wo': 'world$', 'ld$wor': 'world$', 'd$worl': 'world$', '$world': 'world$', 'python$': 'python$', 'ython$p': 'python$', 'thon$py': 'python$', 'hon$pyt': 'python$', 'on$pyth': 'python$', 'n$pytho': 'python$', '$python': 'python$'}\n",
      "{'hello$'}\n"
     ]
    }
   ],
   "source": [
    "# Permute the word and store in index\n",
    "# Here permutations are done by rotating the word and not by swapping the characters\n",
    "# e.g hello --> hello$    Apend '$\" at the end of the word\n",
    "# permute 'hello$' --> 'hello$' 'ello$h' 'llo$he' 'lo$hel' 'o$hell' '$hello'\n",
    "# Store the permuted word as key and original word as value in the index\n",
    "vocab = ['hello', 'world', 'python']\n",
    "\n",
    "class PermutermIndex:\n",
    "    def __init__(self):\n",
    "        self.index = {}\n",
    "\n",
    "    def insert(self, word):\n",
    "        word = word + '$'\n",
    "        for i in range(len(word)):\n",
    "            self.index[word[i:] + word[:i]] = word\n",
    "    \n",
    "    def get_index(self):\n",
    "        return self.index\n",
    "    \n",
    "    def search(self, query):\n",
    "        query = query + '$'\n",
    "        return self.index.get(query, None)\n",
    "    \n",
    "    def wild_card_search(self, query):\n",
    "        query = query + '$'\n",
    "        star_idx = query.index('*')\n",
    "        query = query[star_idx:] + query[:star_idx]\n",
    "        query = query.replace('*', '')\n",
    "        \n",
    "        result = set()\n",
    "        for word in self.index:\n",
    "            if query in word:\n",
    "                result.add(self.index[word])\n",
    "        return result\n",
    "\n",
    "\n",
    "idx = PermutermIndex()\n",
    "for word in vocab:\n",
    "    idx.insert(word)\n",
    "\n",
    "\n",
    "print(idx.get_index())\n",
    "print(idx.wild_card_search('h*o'))"
   ]
  },
  {
   "cell_type": "markdown",
   "metadata": {},
   "source": [
    "Permuterm works well for simple wild card queries where starting and ending characters are provided. e.g \"h\\*o\". Try \"he\\*l\\*\". \n",
    "And also dictionary becomes large with every rotation.\n",
    "\n",
    "\n",
    "#### K-gram indexes\n",
    "\n",
    "The k-gram index is created after breaking the word into k character sequences and storing these sequences as indexes.\n",
    "e.g 'hello' --> '\\$hel', 'hell', 'ello', 'llo\\$'   gives 4 terms (k = 4)  to index where $ is used to mark the start and end of the term. \n"
   ]
  },
  {
   "cell_type": "code",
   "execution_count": 82,
   "metadata": {},
   "outputs": [
    {
     "name": "stdout",
     "output_type": "stream",
     "text": [
      "defaultdict(<class 'set'>, {'$he': {'$hello1234$', '$hello$', '$hello123$', '$hello142$'}, 'hel': {'$hello1234$', '$hello$', '$hello123$', '$hello142$'}, 'ell': {'$hello1234$', '$hello$', '$hello123$', '$hello142$'}, 'llo': {'$hello1234$', '$hello$', '$hello123$', '$hello142$'}, 'lo$': {'$hello$'}, 'lo1': {'$hello1234$', '$hello123$', '$hello142$'}, 'o12': {'$hello1234$', '$hello123$'}, '123': {'$hello1234$', '$hello123$'}, '23$': {'$hello123$'}, '234': {'$hello1234$'}, '34$': {'$hello1234$'}, 'o14': {'$hello142$'}, '142': {'$hello142$'}, '42$': {'$hello142$'}})\n",
      "{'$el', 'ell', 'o14'}\n",
      "{'$hello1234$', '$hello$', '$hello123$', '$hello142$'}\n"
     ]
    }
   ],
   "source": [
    "from collections import defaultdict\n",
    "\n",
    "vocab = ['hello', 'hello123', 'hello1234', 'hello142' ]\n",
    "\n",
    "class KGramIndex:\n",
    "    def __init__(self, k):\n",
    "        self.k = k\n",
    "        self.index = defaultdict(set)   \n",
    "    \n",
    "    def insert(self, word):\n",
    "        word = '$' + word + '$'\n",
    "        for i in range(len(word) - self.k + 1):\n",
    "            self.index[word[i:i+self.k]].add(word)\n",
    "\n",
    "    def _preprocess(self, query):\n",
    "        final_query = set()\n",
    "        query = '$' + query + '$'\n",
    "        qterms = query.split('*')\n",
    "        qterms = [q for q in qterms if len(q) >= self.k]\n",
    "        for t in qterms:\n",
    "            if len(t) > self.k:\n",
    "                for i in range(len(t) - self.k + 1):\n",
    "                    final_query.add(t[i:i+self.k])\n",
    "            else:\n",
    "                final_query.add(t)\n",
    "        return final_query\n",
    "\n",
    "    def search(self, query):\n",
    "        qterms = self._preprocess(query)\n",
    "        print(qterms)\n",
    "        if len(qterms) == 0:\n",
    "            print('No query terms')\n",
    "            return set()\n",
    "        else: \n",
    "            result = set()\n",
    "            for q in qterms:\n",
    "                result = result.union(self.index[q])\n",
    "            return result\n",
    "        \n",
    "    \n",
    "    def get_index(self):\n",
    "        return self.index\n",
    "\n",
    "kgram = KGramIndex(3)\n",
    "for word in vocab:\n",
    "    kgram.insert(word)\n",
    "\n",
    "print(kgram.get_index())\n",
    "print(kgram.search('ell*o14*'))\n",
    "\n"
   ]
  },
  {
   "cell_type": "markdown",
   "metadata": {},
   "source": [
    "The k-gram approach is better at handloing complex wildcard queries. It is still an expensive operation. \n",
    "e.g search 'ell\\*o14\\*' breaks the expression in three query terms {'$el', 'ell', 'o14'}. We have to iterate over 3 terms to find out potential matches. And once all the matches are found, one more step is required to get the precise matches. Which could be implemented as string find operation with the user provided query.\n",
    "\n",
    "In the example above, the query returns hello1234, hello, hello123 and hello142. It should return hello142 only in this case. This can be achieved by one more filtering step mentioned above.\n"
   ]
  }
 ],
 "metadata": {
  "kernelspec": {
   "display_name": "Python 3",
   "language": "python",
   "name": "python3"
  },
  "language_info": {
   "codemirror_mode": {
    "name": "ipython",
    "version": 3
   },
   "file_extension": ".py",
   "mimetype": "text/x-python",
   "name": "python",
   "nbconvert_exporter": "python",
   "pygments_lexer": "ipython3",
   "version": "3.9.13"
  }
 },
 "nbformat": 4,
 "nbformat_minor": 2
}
