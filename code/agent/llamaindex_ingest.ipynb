{
 "cells": [
  {
   "cell_type": "code",
   "execution_count": 3,
   "metadata": {},
   "outputs": [],
   "source": [
    "import fitz\n",
    "import warnings\n",
    "warnings.filterwarnings(\"ignore\")\n",
    "import sys\n",
    "import os\n",
    "\n",
    "# Add the parent directory to sys.path\n",
    "sys.path.append(os.path.abspath(os.path.join(os.getcwd(), \"..\")))\n",
    "\n",
    "from common.common import * "
   ]
  },
  {
   "cell_type": "code",
   "execution_count": 4,
   "metadata": {},
   "outputs": [],
   "source": [
    "document = fitz.open(\"../rag/sample.pdf\")\n",
    "parsed_content = parse_pdf_sections(document)\n",
    "chunks = []\n",
    "\n",
    "for main_section_key, main_section_value in parsed_content.items():\n",
    "    for section_key, section_value in main_section_value.items():\n",
    "        for sub_section_key, sub_section_value in section_value.items():\n",
    "            metadata = (main_section_key + \" \" + section_key + \" \" + sub_section_key).strip().split()\n",
    "            chnk = fixed_size_chunking(sub_section_value, metadata, 1000, 200, char=False)\n",
    "            txt_chnk = [' '.join(c) for c in chnk]\n",
    "            chunks.extend(txt_chnk)\n",
    "            lowercased_list = [str(item).lower() for item in chunks]"
   ]
  },
  {
   "cell_type": "code",
   "execution_count": 5,
   "metadata": {},
   "outputs": [],
   "source": [
    "import warnings\n",
    "warnings.filterwarnings(\"ignore\")\n",
    "\n",
    "from llama_index.core.schema import Document\n",
    "from llama_index.embeddings.huggingface import HuggingFaceEmbedding\n",
    "from llama_index.core import VectorStoreIndex, Settings\n",
    "embed_model = HuggingFaceEmbedding()\n",
    "\n",
    "# Settings\n",
    "Settings.embed_model = embed_model\n",
    "\n",
    "\n",
    "index = VectorStoreIndex([])\n",
    "for chunk in lowercased_list:\n",
    "    index.insert(Document(text=chunk, extra_info={}))"
   ]
  },
  {
   "cell_type": "code",
   "execution_count": 6,
   "metadata": {},
   "outputs": [],
   "source": [
    "from llama_index.core.agent import ReActAgent\n",
    "from llama_index.core.tools import FunctionTool\n",
    "import requests\n",
    "from bs4 import BeautifulSoup\n",
    "from llama_index.core.tools import QueryEngineTool\n",
    "from llama_index.llms.ollama import Ollama\n",
    "llm = Ollama(model = \"llama3.1\", request_timeout=420.0)\n",
    "\n",
    "def get_weather(city_name):\n",
    "    try:\n",
    "        # Fetch weather data from wttr.in\n",
    "        url = f\"https://wttr.in/{city_name}?format=%C+%t+%h+%w\"\n",
    "        response = requests.get(url)\n",
    "        response.raise_for_status()\n",
    "        \n",
    "        # The response contains the weather information in plain text\n",
    "        weather_info = response.text.strip()\n",
    "        return f\"Weather in {city_name}:\\n{weather_info}\"\n",
    "    except requests.exceptions.RequestException as e:\n",
    "        return f\"An error occurred: {e}\"\n",
    "    \n",
    "def calculator(a, b, operator):\n",
    "    try:\n",
    "        if operator == \"+\":\n",
    "            return a + b\n",
    "        elif operator == \"-\":\n",
    "            return a - b\n",
    "        elif operator == \"*\":\n",
    "            return a * b\n",
    "        elif operator == \"/\":\n",
    "            return a / b\n",
    "        else:\n",
    "            return \"Invalid operator. Please use one of the following: +, -, *, /\"\n",
    "    except ZeroDivisionError:\n",
    "        return \"Cannot divide by zero.\""
   ]
  },
  {
   "cell_type": "code",
   "execution_count": 9,
   "metadata": {},
   "outputs": [],
   "source": [
    "\n",
    "\n",
    "weather_tool = FunctionTool.from_defaults(fn = get_weather)\n",
    "calc_tool = FunctionTool.from_defaults(fn = calculator)\n",
    "query_engine = index.as_query_engine(llm=llm)\n",
    "\n",
    "spark_tool = QueryEngineTool.from_defaults(\n",
    "    query_engine,\n",
    "    name=\"spark_info\",\n",
    "    description=\"A tool to extract some information about Apache Spark.\",\n",
    ")\n",
    "\n",
    "agent = ReActAgent.from_tools([weather_tool, spark_tool, calc_tool], llm=llm, verbose=False)"
   ]
  },
  {
   "cell_type": "code",
   "execution_count": 10,
   "metadata": {},
   "outputs": [
    {
     "name": "stdout",
     "output_type": "stream",
     "text": [
      "The solution to the expression 5 + (5 * 5) is 30.\n"
     ]
    }
   ],
   "source": [
    "response = agent.chat(\" Give me the solution of 5 + (5  * 5). use a tool for calculation.\")\n",
    "print(response)"
   ]
  },
  {
   "cell_type": "code",
   "execution_count": 11,
   "metadata": {},
   "outputs": [
    {
     "name": "stdout",
     "output_type": "stream",
     "text": [
      "Overcast with a temperature of 18 degrees Celsius and a humidity level of 28%, with winds going at 9 kilometers per hour.\n"
     ]
    }
   ],
   "source": [
    "\n",
    "response = agent.chat(\"What is weather in Delhi? Use weather tool to get weather details.\")\n",
    "\n",
    "print(response)"
   ]
  },
  {
   "cell_type": "code",
   "execution_count": 12,
   "metadata": {},
   "outputs": [
    {
     "name": "stdout",
     "output_type": "stream",
     "text": [
      "The four component names of Apache Spark are spark sql, spark mllib, spark structured streaming, and graphx.\n"
     ]
    }
   ],
   "source": [
    "response = agent.chat(\n",
    "    \"Give me the four component names of Spark?\"\n",
    ")\n",
    "print(response)"
   ]
  },
  {
   "cell_type": "code",
   "execution_count": 13,
   "metadata": {},
   "outputs": [
    {
     "name": "stdout",
     "output_type": "stream",
     "text": [
      "The solution to the original question is that Apache Spark started in 2009 at AMPLab as a more efficient system for interactive and iterative computing jobs.\n"
     ]
    }
   ],
   "source": [
    "response = agent.chat(\"Can you tell me something about Spark’s Early Years at AMPLab with important milestones in 500 words.\")\n",
    "\n",
    "print(response)"
   ]
  }
 ],
 "metadata": {
  "kernelspec": {
   "display_name": "Python 3",
   "language": "python",
   "name": "python3"
  },
  "language_info": {
   "codemirror_mode": {
    "name": "ipython",
    "version": 3
   },
   "file_extension": ".py",
   "mimetype": "text/x-python",
   "name": "python",
   "nbconvert_exporter": "python",
   "pygments_lexer": "ipython3",
   "version": "3.12.0"
  }
 },
 "nbformat": 4,
 "nbformat_minor": 2
}
