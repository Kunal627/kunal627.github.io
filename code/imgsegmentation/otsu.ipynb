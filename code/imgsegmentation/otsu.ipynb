{
 "cells": [
  {
   "cell_type": "markdown",
   "metadata": {},
   "source": [
    "# Otsu's method for thresholding is named after Nobuyuki Otsu, who came up with the idea in 1979. The algorithm assumes that the image contains two classes of pixels following bi-modal \n",
    "# histogram (foreground pixels and background pixels), it then calculates the optimum threshold by minimizing the intra-class variance.\n",
    "\n",
    "\n",
    "Otsu's Algorithm: \n",
    "1. Compute histogram and probabilities of each intensity level\n",
    "2. Set up initial weights and means for the two classes\n",
    "3. Step through all possible thresholds:\n",
    "    Update the weights and means of the two classes\n",
    "    Compute the inter-class variance\n",
    "5. Find the threshold that minimizes the within-class variance"
   ]
  },
  {
   "cell_type": "code",
   "execution_count": null,
   "metadata": {},
   "outputs": [],
   "source": [
    "# Otsu's method for thresholding is named after Nobuyuki Otsu, who came up with the idea in 1979. The algorithm assumes that the image contains two classes of pixels following bi-modal \n",
    "# histogram (foreground pixels and background pixels), it then calculates the optimum threshold by minimizing the intra-class variance.\n",
    "\n",
    "\n",
    "Otsu's Algorithm: \n",
    "1. Compute histogram and probabilities of each intensity level\n",
    "2. Set up initial weights and means for the two classes\n",
    "3. Step through all possible thresholds\n",
    "    Update the weights and means of the two classes\n",
    "    Compute the inter-class variance\n",
    "5. Find the threshold that minimizes the within-class variance"
   ]
  }
 ],
 "metadata": {
  "language_info": {
   "name": "python"
  }
 },
 "nbformat": 4,
 "nbformat_minor": 2
}
